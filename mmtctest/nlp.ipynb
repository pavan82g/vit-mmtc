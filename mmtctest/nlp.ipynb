{
 "cells": [
  {
   "cell_type": "code",
   "execution_count": 3,
   "metadata": {},
   "outputs": [],
   "source": [
    "import nltk\n",
    "import json\n",
    "import pandas as pd\n",
    "import datetime  \n"
   ]
  },
  {
   "cell_type": "code",
   "execution_count": null,
   "metadata": {},
   "outputs": [],
   "source": []
  },
  {
   "cell_type": "code",
   "execution_count": 4,
   "metadata": {},
   "outputs": [
    {
     "name": "stdout",
     "output_type": "stream",
     "text": [
      "showing info https://raw.githubusercontent.com/nltk/nltk_data/gh-pages/index.xml\n"
     ]
    },
    {
     "data": {
      "text/plain": [
       "True"
      ]
     },
     "execution_count": 4,
     "metadata": {},
     "output_type": "execute_result"
    }
   ],
   "source": [
    "nltk.download()"
   ]
  },
  {
   "cell_type": "code",
   "execution_count": null,
   "metadata": {},
   "outputs": [],
   "source": [
    "t = \"Can you please plan me a trip from tirupati to delhi on 18th january\""
   ]
  },
  {
   "cell_type": "code",
   "execution_count": null,
   "metadata": {},
   "outputs": [],
   "source": [
    "tokens = [i for i in t.split()]"
   ]
  },
  {
   "cell_type": "code",
   "execution_count": null,
   "metadata": {},
   "outputs": [],
   "source": [
    "tokens"
   ]
  },
  {
   "cell_type": "code",
   "execution_count": null,
   "metadata": {},
   "outputs": [],
   "source": [
    "nltk.pos_tag(tokens)"
   ]
  },
  {
   "cell_type": "code",
   "execution_count": null,
   "metadata": {},
   "outputs": [],
   "source": [
    "file0 = 'home/static/FINALFLIGHTTEST.json'\n",
    "file1 = 'home/static/FINALTRAINTEST.json'\n",
    "with open(file0) as flight_file:\n",
    "    dict_flight = json.load(flight_file)\n",
    "flight = pd.DataFrame.from_dict(dict_flight, orient='columns')\n",
    "flight.reset_index(level=0, inplace = True)\n",
    "with open(file1) as train_file:\n",
    "    dict_train = json.load(train_file)\n",
    "# converting json dataset from dictionary to dataframe\n",
    "train = pd.DataFrame.from_dict(dict_train, orient='columns')\n",
    "train.reset_index(level=0, inplace=True)"
   ]
  },
  {
   "cell_type": "code",
   "execution_count": null,
   "metadata": {},
   "outputs": [],
   "source": [
    "days = {\n",
    "      \"Monday\": '1',\n",
    "     \"Tuesday\": '2',\n",
    "     \"Wednesday\": '3',\n",
    "      \"Thursday\": '4',\n",
    "       \"Friday\": '5',\n",
    "      \"Saturday\": '6',\n",
    "       \"sunday\": '7'\n",
    "       }\n",
    "\n"
   ]
  },
  {
   "cell_type": "code",
   "execution_count": null,
   "metadata": {},
   "outputs": [],
   "source": [
    "train.head(5)"
   ]
  },
  {
   "cell_type": "code",
   "execution_count": null,
   "metadata": {},
   "outputs": [],
   "source": [
    "q = pd.DataFrame()\n",
    "q = flight.loc[flight['LOCAL_AIRPORT'] == 'DELHI']\n",
    "j = []\n",
    "for i in range(0,q.shape[0]):\n",
    "    if q.iloc[i,10] not in j:\n",
    "        j.append(q.iloc[i,10])\n",
    "j.sort()\n",
    "len(j)"
   ]
  },
  {
   "cell_type": "code",
   "execution_count": null,
   "metadata": {},
   "outputs": [],
   "source": [
    "lp = train.loc[train['Source Station Name'] == 'DELHI']\n",
    "lp\n",
    "lp.loc[lp['Dest station_name'] == 'AHMEDABAD']\n"
   ]
  },
  {
   "cell_type": "code",
   "execution_count": null,
   "metadata": {},
   "outputs": [],
   "source": [
    "s = 'DELHI'\n",
    "d = \"TIRUPATI\"\n",
    "f = '20/09/2018'\n",
    "day,mnth,year = list(map(int,f.split('/')))\n",
    "mydate = datetime.date(year,mnth,day)  #year, month, day\n",
    "t=mydate.strftime(\"%A\")\n",
    "date=days[t]\n",
    "k = []\n",
    "for i in range(0,train.shape[0]):\n",
    "    b = []\n",
    "    if train.iloc[i,12] == s.upper():\n",
    "        if train.iloc[i,7] == d.upper():\n",
    "            c = list(str(train.iloc[i,5]))\n",
    "            if date in c:\n",
    "                b.append(train.iloc[i,:])\n",
    "                k.append(b)\n",
    "g = []\n",
    "for i in range(0,flight.shape[0]):\n",
    "    b = []\n",
    "    if flight.iloc[i,7] == s.upper():\n",
    "        if flight.iloc[i,10] == d.upper():\n",
    "            c = list(str(flight.iloc[i,6]))\n",
    "            if date in c:\n",
    "                b.append(flight.iloc[i,:])\n",
    "                g.append(b)\n",
    "report = pd.DataFrame()\n",
    "report2 = pd.DataFrame()\n",
    "for q in k:\n",
    "    r = pd.DataFrame(q)\n",
    "    report = pd.concat([report,r], axis = 0)\n",
    "for q in g:\n",
    "    f = pd.DataFrame(q)\n",
    "    report2 = pd.concat([report2,f], axis = 0)\n",
    "t = []\n",
    "q = []\n",
    "for i in range(0,len(report)):\n",
    "    p = list(report.iloc[i,:])\n",
    "    t.append(p)\n",
    "    \n",
    "for i in range(0,len(report2)):\n",
    "    p = list(report2.iloc[i,:])\n",
    "    q.append(p)"
   ]
  },
  {
   "cell_type": "code",
   "execution_count": null,
   "metadata": {},
   "outputs": [],
   "source": [
    "fsource = []\n",
    "for i in range(0,flight.shape[0]):\n",
    "    if flight.iloc[i,7] not in fsource:\n",
    "        fsource.append(flight.iloc[i,7])\n",
    "fdest = []\n",
    "for i in range(0,flight.shape[0]):\n",
    "    if flight.iloc[i,10] not in fdest:\n",
    "        fdest.append(flight.iloc[i,10])\n",
    "        \n",
    "tdest = []\n",
    "for i in range(0,train.shape[0]):\n",
    "    if train.iloc[i,7] not in tdest:\n",
    "        tdest.append(train.iloc[i,7])\n",
    "tsource = []\n",
    "for i in range(0,train.shape[0]):\n",
    "    if train.iloc[i,12] not in tsource:\n",
    "        tsource.append(train.iloc[i,12])"
   ]
  },
  {
   "cell_type": "code",
   "execution_count": null,
   "metadata": {},
   "outputs": [],
   "source": [
    "fdest = []\n",
    "for i in range(0,flight.shape[0]):\n",
    "    if flight.iloc[i,10] not in fdest:\n",
    "        fdest.append(flight.iloc[i,10])"
   ]
  },
  {
   "cell_type": "code",
   "execution_count": null,
   "metadata": {},
   "outputs": [],
   "source": [
    "tdest = []\n",
    "for i in range(0,train.shape[0]):\n",
    "    if train.iloc[i,7] not in tdest:\n",
    "        tdest.append(train.iloc[i,7])"
   ]
  },
  {
   "cell_type": "code",
   "execution_count": null,
   "metadata": {},
   "outputs": [],
   "source": [
    "tsource = []\n",
    "for i in range(0,train.shape[0]):\n",
    "    if train.iloc[i,12] not in tsource:\n",
    "        tsource.append(train.iloc[i,12])"
   ]
  },
  {
   "cell_type": "code",
   "execution_count": null,
   "metadata": {
    "scrolled": true
   },
   "outputs": [],
   "source": [
    "len(tsource)"
   ]
  },
  {
   "cell_type": "code",
   "execution_count": null,
   "metadata": {},
   "outputs": [],
   "source": [
    "len(tdest)"
   ]
  },
  {
   "cell_type": "code",
   "execution_count": null,
   "metadata": {},
   "outputs": [],
   "source": [
    "len(fsource)"
   ]
  },
  {
   "cell_type": "code",
   "execution_count": null,
   "metadata": {},
   "outputs": [],
   "source": [
    "len(fdest)"
   ]
  },
  {
   "cell_type": "code",
   "execution_count": null,
   "metadata": {},
   "outputs": [],
   "source": [
    "fr = flight.shape[0]\n",
    "tr = train.shape[0]"
   ]
  },
  {
   "cell_type": "code",
   "execution_count": null,
   "metadata": {},
   "outputs": [],
   "source": [
    "train.head(2)"
   ]
  },
  {
   "cell_type": "code",
   "execution_count": null,
   "metadata": {},
   "outputs": [],
   "source": [
    "        #pre process connecting trains\n",
    "        lev1 = []\n",
    "        for i in range(0,tr):\n",
    "            if train.iloc[i,12] == s.upper():\n",
    "                if train.iloc[i,7] in tsource and train.iloc[i,7] != s.upper():\n",
    "                    c = list(str(train.iloc[i,5]))\n",
    "                    if date in c:\n",
    "                        dist = train.iloc[i,8]\n",
    "                        if dist < 50:\n",
    "                            time = 1\n",
    "                        else:\n",
    "                            time = int(dist/50)\n",
    "                        print(\"time = \", time)\n",
    "                        hr,_,_ = list(map(int,train.iloc[i,14].split(':')))\n",
    "                        rtime = time + hr\n",
    "                        if rtime > 23:\n",
    "                            label = int(rtime/24) * 1000 \n",
    "                            print(\"label = \", label)\n",
    "                        else:\n",
    "                            label = rtime\n",
    "                            print(\"label = \", label)\n",
    "                        d2 = train.iloc[i,7]\n",
    "                        tnum = train.iloc[i,15]\n",
    "                        l = (d2,label,tnum,i)\n",
    "                        lev1.append(l)\n"
   ]
  },
  {
   "cell_type": "code",
   "execution_count": null,
   "metadata": {},
   "outputs": [],
   "source": [
    "lev1"
   ]
  },
  {
   "cell_type": "code",
   "execution_count": null,
   "metadata": {},
   "outputs": [],
   "source": [
    "        #connecting trains\n",
    "\n",
    "        li = []\n",
    "        for i in lev1:\n",
    "            for j in range(0,tr):\n",
    "                if train.iloc[j,12] == i[0].upper() and train.iloc[j,7] == d.upper():\n",
    "                    hr,_,_ = list(map(int,train.iloc[j,14].split(':')))\n",
    "                    if i[1] >= 1000:\n",
    "                        day1 = i[1]/1000\n",
    "                        newday = (int(date) + day1)%7\n",
    "                        if newday == 0:\n",
    "                            newday=7\n",
    "                        c = list(str(train.iloc[j,5]))\n",
    "                        if newday in c:\n",
    "                            print(\"train 01\\n\\t\",train.iloc[i[3],:])\n",
    "                            print(\"train 02\\n\\t\",train.iloc[j,:])\n",
    "                    else:\n",
    "                        time = i[1]\n",
    "                        if hr > time:\n",
    "                            print(\"train 01\\n\\t\",train.iloc[i[3],:])\n",
    "                            print(\"train 02\\n\\t\",train.iloc[j,:])\n",
    "                        else:\n",
    "                            newday = (int(date) + 1)%7\n",
    "                            if newday == 0:\n",
    "                                newday=7\n",
    "                            c = list(str(train.iloc[j,5]))\n",
    "                            if newday in c:\n",
    "                                print(\"train 01\\n\\t\",train.iloc[i[3],:])\n",
    "                                print(\"train 02\\n\\t\",train.iloc[j,:])"
   ]
  },
  {
   "cell_type": "code",
   "execution_count": null,
   "metadata": {},
   "outputs": [],
   "source": [
    "len(lev2)"
   ]
  },
  {
   "cell_type": "code",
   "execution_count": null,
   "metadata": {},
   "outputs": [],
   "source": [
    "#pre process connecting flights 02\n",
    "lev2 = []\n",
    "for i in range(0,fr):\n",
    "    if flight.iloc[i,7] == s.upper():\n",
    "        if flight.iloc[i,10] in fsource and train.iloc[i,10] != s.upper():\n",
    "            if flight.iloc[i,10] in lev3:\n",
    "                c = list(str(flight.iloc[i,6]))\n",
    "                if date in c:\n",
    "                    dist = int(round(flight.iloc[i,13]/60))\n",
    "                    hr = int(flight.iloc[i,9]/100)\n",
    "                    rtime = dist + hr\n",
    "                    if rtime > 23:\n",
    "                        rtime = rtime%24\n",
    "                        label = int(rtime) * 1000 \n",
    "                    else:\n",
    "                        label = rtime\n",
    "                    d2 = flight.iloc[i,10]\n",
    "                    fnum = flight.iloc[i,5]\n",
    "                    l = (d2,label,fnum,i)\n",
    "                    lev2.append(l)"
   ]
  },
  {
   "cell_type": "code",
   "execution_count": null,
   "metadata": {},
   "outputs": [],
   "source": [
    "#pre processing connecting flights1\n",
    "lev3 = []\n",
    "for i in range(0,fr):\n",
    "    if flight.iloc[i,10] == d.upper():\n",
    "        if flight.iloc[i,7] not in lev3:\n",
    "            lev3.append(flight.iloc[i,7])"
   ]
  },
  {
   "cell_type": "code",
   "execution_count": null,
   "metadata": {},
   "outputs": [],
   "source": [
    "lev3"
   ]
  },
  {
   "cell_type": "code",
   "execution_count": null,
   "metadata": {},
   "outputs": [],
   "source": [
    "#STEP 3\n",
    "\n",
    "lev4 = []\n",
    "for i in lev3:\n",
    "    count = 0\n",
    "    for j in lev2:\n",
    "        if i == j[0]:\n",
    "            lev4.append(j)\n",
    "            count = count + 1\n",
    "        if count == 10:\n",
    "            break"
   ]
  },
  {
   "cell_type": "code",
   "execution_count": null,
   "metadata": {},
   "outputs": [],
   "source": [
    "len(lev4)"
   ]
  },
  {
   "cell_type": "code",
   "execution_count": null,
   "metadata": {},
   "outputs": [],
   "source": [
    "flight.head(1)"
   ]
  },
  {
   "cell_type": "code",
   "execution_count": null,
   "metadata": {},
   "outputs": [],
   "source": [
    "#connecting flights\n",
    "op = 0\n",
    "for i in lev4:\n",
    "    for j in range(0,fr):\n",
    "        if flight.iloc[j,7] == i[0].upper() and flight.iloc[j,10] == d.upper():\n",
    "            hr = int(flight.iloc[j,9]/100)\n",
    "            if i[1] >= 1000:\n",
    "                newdate = str(int(date) + 1)\n",
    "                c = list(str(flight.iloc[j,6]))\n",
    "                if newdate in c:\n",
    "                    print(\"\\n\\n\\t\\tflight 01\\n\",flight.iloc[i[3],:])\n",
    "                    print(\"\\n\\n\\t\\tflight 02\\n\",flight.iloc[j,:])\n",
    "                    op = op +1\n",
    "                    break\n",
    "            else:\n",
    "                time = i[1]\n",
    "                if hr > time:\n",
    "                    print(\"\\n\\n\\t\\tflight 01\\n\",flight.iloc[i[3],:])\n",
    "                    print(\"\\n\\n\\t\\tflight 02\\n\",flight.iloc[j,:])\n",
    "                    op = op+1\n",
    "                    break"
   ]
  },
  {
   "cell_type": "code",
   "execution_count": null,
   "metadata": {},
   "outputs": [],
   "source": [
    "int(flight.iloc[0,9]/100)"
   ]
  },
  {
   "cell_type": "code",
   "execution_count": null,
   "metadata": {},
   "outputs": [],
   "source": [
    "flight.head(1)"
   ]
  },
  {
   "cell_type": "code",
   "execution_count": null,
   "metadata": {},
   "outputs": [],
   "source": [
    "op"
   ]
  },
  {
   "cell_type": "code",
   "execution_count": null,
   "metadata": {},
   "outputs": [],
   "source": [
    "len(t)"
   ]
  },
  {
   "cell_type": "code",
   "execution_count": null,
   "metadata": {},
   "outputs": [],
   "source": [
    "days = {\n",
    "    \"Monday\": '1',\n",
    "    \"Tuesday\": '2',\n",
    "    \"Wednesday\": '3',\n",
    "    \"Thursday\": '4',\n",
    "    \"Friday\": '5',\n",
    "    \"Saturday\": '6',\n",
    "    \"sunday\": '7'\n",
    "}\n",
    "treports=Post2.objects.all()\n",
    "k = treports[len(treports)-1]\n",
    "#our algorithm\n",
    "s = k.source\n",
    "d = k.dest\n",
    "f = k.date\n",
    "day,mnth,year = list(map(int,f.split('/')))\n",
    "mydate = datetime.date(year,mnth,day)  #year, month, day\n",
    "t=mydate.strftime(\"%A\")\n",
    "date=days[t]\n",
    "file0 = 'home/static/FINALFLIGHTTEST.json'\n",
    "file1 = 'home/static/FINALTRAINTEST.json'\n",
    "with open(file0) as flight_file:\n",
    "    dict_flight = json.load(flight_file)\n",
    "flight = pd.DataFrame.from_dict(dict_flight, orient='columns')\n",
    "flight.reset_index(level=0, inplace = True)\n",
    "with open(file1) as train_file:\n",
    "    dict_train = json.load(train_file)\n",
    "# converting json dataset from dictionary to dataframe\n",
    "train = pd.DataFrame.from_dict(dict_train, orient='columns')\n",
    "train.reset_index(level=0, inplace=True)\n",
    "k = []\n",
    "for i in range(0,train.shape[0]):\n",
    "    b = []\n",
    "    if train.iloc[i,12] == s.upper():\n",
    "        if train.iloc[i,7] == d.upper():\n",
    "            c = list(str(train.iloc[i,5]))\n",
    "            if date in c:\n",
    "                b.append(train.iloc[i,:])\n",
    "                k.append(b)\n",
    "g = []\n",
    "\n",
    "for i in range(0,flight.shape[0]):\n",
    "    b = []\n",
    "    if flight.iloc[i,7] == s.upper():\n",
    "        if flight.iloc[i,10] == d.upper():\n",
    "            c = list(str(flight.iloc[i,6]))\n",
    "            if date in c:\n",
    "\n",
    "                b.append(flight.iloc[i,:])\n",
    "                g.append(b)\n",
    "report = pd.DataFrame()\n",
    "report2 = pd.DataFrame()\n",
    "for q in k:\n",
    "    r = pd.DataFrame(q)\n",
    "    report = pd.concat([report,r], axis = 0)\n",
    "for q in g:\n",
    "    f = pd.DataFrame(q)\n",
    "    report2 = pd.concat([report2,f], axis = 0)\n",
    "t = []\n",
    "q = []\n",
    "flightcon = []\n",
    "traincon = []\n",
    "for i in range(0,len(report)):\n",
    "    p = list(report.iloc[i,:])\n",
    "    t.append(p)\n",
    "\n",
    "for i in range(0,len(report2)):\n",
    "    p = list(report2.iloc[i,:])\n",
    "    q.append(p)\n",
    "\n",
    "if len(q) == 0:\n",
    "    f = 1\n",
    "if len(t) == 0:\n",
    "    h = 1\n",
    "\n",
    "fr = flight.shape[0]\n",
    "tr = train.shape[0]\n",
    "\n",
    "fsource = []\n",
    "for i in range(0,flight.shape[0]):\n",
    "    if flight.iloc[i,7] not in fsource:\n",
    "        fsource.append(flight.iloc[i,7])\n",
    "fdest = []\n",
    "for i in range(0,flight.shape[0]):\n",
    "    if flight.iloc[i,10] not in fdest:\n",
    "        fdest.append(flight.iloc[i,10])\n",
    "        \n",
    "tdest = []\n",
    "for i in range(0,train.shape[0]):\n",
    "    if train.iloc[i,7] not in tdest:\n",
    "        tdest.append(train.iloc[i,7])\n",
    "tsource = []\n",
    "for i in range(0,train.shape[0]):\n",
    "    if train.iloc[i,12] not in tsource:\n",
    "        tsource.append(train.iloc[i,12])\n",
    "\n",
    "\n",
    "if f == 1:\n",
    "\n",
    "    #pre processing connecting flights1\n",
    "    lev3 = []\n",
    "    for i in range(0,fr):\n",
    "        if flight.iloc[i,10] == d.upper():\n",
    "            if flight.iloc[i,7] not in lev3:\n",
    "                lev3.append(flight.iloc[i,7])\n",
    "    #pre process connecting flights 02\n",
    "    lev2 = []\n",
    "    for i in range(0,fr):\n",
    "        if flight.iloc[i,7] == s.upper():\n",
    "            if flight.iloc[i,10] in fsource and train.iloc[i,10] != s.upper():\n",
    "                if flight.iloc[i,10] in lev3:\n",
    "                    c = list(str(flight.iloc[i,6]))\n",
    "                    if date in c:\n",
    "                        dist = int(round(flight.iloc[i,13]/60))\n",
    "                        hr = int(flight.iloc[i,9]/100)\n",
    "                        rtime = dist + hr\n",
    "                        if rtime > 23:\n",
    "                            rtime = rtime%24\n",
    "                            label = int(rtime) * 1000 \n",
    "                        else:\n",
    "                            label = rtime\n",
    "                        d2 = flight.iloc[i,10]\n",
    "                        fnum = flight.iloc[i,5]\n",
    "                        l = (d2,label,fnum,i)\n",
    "                        lev2.append(l)\n",
    "    #STEP 3\n",
    "\n",
    "    lev4 = []\n",
    "    for i in lev3:\n",
    "        count = 0\n",
    "        for j in lev2:\n",
    "            if i == j[0]:\n",
    "                lev4.append(j)\n",
    "                count = count + 1\n",
    "            if count == 10:\n",
    "                break\n",
    "\n",
    "    #connecting flights\n",
    "    op = 0\n",
    "    for i in lev4:\n",
    "        for j in range(0,fr):\n",
    "            if flight.iloc[j,7] == i[0].upper() and flight.iloc[j,10] == d.upper():\n",
    "                hr = int(flight.iloc[j,9]/100)\n",
    "                if i[1] >= 1000:\n",
    "                    newdate = str(int(date) + 1)\n",
    "                    c = list(str(flight.iloc[j,6]))\n",
    "                    if newdate in c:\n",
    "                        print(\"\\n\\n\\t\\tflight 01\\n\",flight.iloc[i[3],:])\n",
    "                        print(\"\\n\\n\\t\\tflight 02\\n\",flight.iloc[j,:])\n",
    "                        op = op +1\n",
    "                        break\n",
    "                else:\n",
    "                    time = i[1]\n",
    "                    if hr > time:\n",
    "                        print(\"\\n\\n\\t\\tflight 01\\n\",flight.iloc[i[3],:])\n",
    "                        print(\"\\n\\n\\t\\tflight 02\\n\",flight.iloc[j,:])\n",
    "                        op = op+1\n",
    "                        break                                    \n",
    "return render(request,\"home/result.html\",{\"t\":t, \"q\":q})"
   ]
  },
  {
   "cell_type": "code",
   "execution_count": null,
   "metadata": {},
   "outputs": [],
   "source": [
    "b = []\n",
    "b.append(flight.iloc[j,:])\n",
    "b.append(flight.iloc[j,:])\n",
    "k = []\n",
    "k.append(b)"
   ]
  },
  {
   "cell_type": "code",
   "execution_count": null,
   "metadata": {},
   "outputs": [],
   "source": [
    "k"
   ]
  },
  {
   "cell_type": "code",
   "execution_count": null,
   "metadata": {},
   "outputs": [],
   "source": []
  }
 ],
 "metadata": {
  "kernelspec": {
   "display_name": "Python 3",
   "language": "python",
   "name": "python3"
  }
 },
 "nbformat": 4,
 "nbformat_minor": 2
}
