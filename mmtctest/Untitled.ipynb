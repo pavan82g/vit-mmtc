{
 "cells": [
  {
   "cell_type": "code",
   "execution_count": 1,
   "metadata": {},
   "outputs": [],
   "source": [
    "import json\n",
    "import nltk\n",
    "import pandas as pd\n",
    "import random"
   ]
  },
  {
   "cell_type": "code",
   "execution_count": 131,
   "metadata": {},
   "outputs": [],
   "source": [
    "s = \"get the train to delhi from tirupati\""
   ]
  },
  {
   "cell_type": "code",
   "execution_count": 132,
   "metadata": {},
   "outputs": [],
   "source": [
    "from nltk.tokenize import word_tokenize\n",
    " \n",
    "tokens = word_tokenize(s)"
   ]
  },
  {
   "cell_type": "code",
   "execution_count": 133,
   "metadata": {},
   "outputs": [],
   "source": [
    "from nltk.stem import WordNetLemmatizer\n",
    " \n",
    "lemmatizer = WordNetLemmatizer()\n",
    " \n",
    "#print(lemmatizer.lemmatize('increases'))\n",
    "tokens = [lemmatizer.lemmatize(w) for w in tokens]"
   ]
  },
  {
   "cell_type": "code",
   "execution_count": 134,
   "metadata": {},
   "outputs": [],
   "source": [
    "tokens = [w.upper() for w in tokens]\n",
    "tokens.append('$')"
   ]
  },
  {
   "cell_type": "code",
   "execution_count": 135,
   "metadata": {},
   "outputs": [],
   "source": [
    "file0 = 'home/static/FINALFLIGHTTEST.json'\n",
    "file1 = 'home/static/FINALTRAINTEST.json'\n",
    "with open(file0) as flight_file:\n",
    "    dict_flight = json.load(flight_file)\n",
    "flight = pd.DataFrame.from_dict(dict_flight, orient='columns')\n",
    "flight.reset_index(level=0, inplace = True)\n",
    "with open(file1) as train_file:\n",
    "    dict_train = json.load(train_file)\n",
    "# converting json dataset from dictionary to dataframe\n",
    "train = pd.DataFrame.from_dict(dict_train, orient='columns')\n",
    "train.reset_index(level=0, inplace=True)"
   ]
  },
  {
   "cell_type": "code",
   "execution_count": 136,
   "metadata": {},
   "outputs": [],
   "source": [
    "fsource = []\n",
    "for i in range(0,flight.shape[0]):\n",
    "    if flight.iloc[i,7] not in fsource:\n",
    "        fsource.append(flight.iloc[i,7])\n",
    "fdest = []\n",
    "for i in range(0,flight.shape[0]):\n",
    "    if flight.iloc[i,10] not in fdest:\n",
    "        fdest.append(flight.iloc[i,10])\n",
    "        \n",
    "tdest = []\n",
    "for i in range(0,train.shape[0]):\n",
    "    if train.iloc[i,7] not in tdest:\n",
    "        tdest.append(train.iloc[i,7])\n",
    "tsource = []\n",
    "for i in range(0,train.shape[0]):\n",
    "    if train.iloc[i,12] not in tsource:\n",
    "        tsource.append(train.iloc[i,12])"
   ]
  },
  {
   "cell_type": "code",
   "execution_count": 137,
   "metadata": {},
   "outputs": [],
   "source": [
    "def get_lists(tokens):\n",
    "    k = []\n",
    "    b = []\n",
    "    result = []\n",
    "    for i in range(0,len(tokens)):\n",
    "        if tokens[i] == 'FROM' or tokens[i] == 'TO':\n",
    "            k.append('$')\n",
    "        k.append(tokens[i])\n",
    "    for i in k:\n",
    "        if i == '$':\n",
    "            result.append(b)\n",
    "            b = []\n",
    "        else:\n",
    "            b.append(i)\n",
    "    nt = []\n",
    "    fr = []\n",
    "    to = []\n",
    "    print(result)\n",
    "    for b in result:\n",
    "        if b[0] == 'FROM':\n",
    "            fr.append(b)\n",
    "        elif b[0] == 'TO':\n",
    "            to.append(b)\n",
    "        else:\n",
    "            nt.append(b)\n",
    "    return nt,fr,to"
   ]
  },
  {
   "cell_type": "code",
   "execution_count": null,
   "metadata": {},
   "outputs": [],
   "source": []
  },
  {
   "cell_type": "code",
   "execution_count": 138,
   "metadata": {},
   "outputs": [
    {
     "name": "stdout",
     "output_type": "stream",
     "text": [
      "[['GET', 'THE', 'TRAIN'], ['TO', 'DELHI'], ['FROM', 'TIRUPATI']]\n"
     ]
    }
   ],
   "source": [
    "nt,fr,to = get_lists(tokens)"
   ]
  },
  {
   "cell_type": "code",
   "execution_count": 139,
   "metadata": {},
   "outputs": [
    {
     "data": {
      "text/plain": [
       "[['GET', 'THE', 'TRAIN']]"
      ]
     },
     "execution_count": 139,
     "metadata": {},
     "output_type": "execute_result"
    }
   ],
   "source": [
    "nt"
   ]
  },
  {
   "cell_type": "code",
   "execution_count": 140,
   "metadata": {},
   "outputs": [
    {
     "data": {
      "text/plain": [
       "['AGRA',\n",
       " 'AGATTI ISLAND',\n",
       " 'AIZAWAL',\n",
       " 'AHMEDABAD',\n",
       " 'AMRITSAR',\n",
       " 'BHUBANESWAR',\n",
       " 'VADODARA',\n",
       " 'BHUJ',\n",
       " 'BHOPAL',\n",
       " 'BHAVNAGAR',\n",
       " 'BIKANER',\n",
       " 'BANGLORE',\n",
       " 'MUMBAI',\n",
       " 'BHATINDA',\n",
       " 'CALICUT',\n",
       " 'KOLKATA',\n",
       " 'CUDDAPAH',\n",
       " 'COIMBATORE',\n",
       " 'COCHIN',\n",
       " 'DEHRADUN',\n",
       " 'DELHI',\n",
       " 'GAGGAL',\n",
       " 'NAN',\n",
       " 'DIU',\n",
       " 'DIMAPUR',\n",
       " 'GUWAHATI',\n",
       " 'GAYA',\n",
       " 'DABOLIM',\n",
       " 'GWALIOR',\n",
       " 'HUBLI',\n",
       " 'KHAJURAHO',\n",
       " 'HYDERABAD',\n",
       " 'INDORE',\n",
       " 'IMPHAL',\n",
       " 'AGARTALA',\n",
       " 'BAGDOGRA',\n",
       " 'CHANDIGARH',\n",
       " 'ALLAHABAD',\n",
       " 'MANGALORE',\n",
       " 'BELGAUM',\n",
       " 'LILABARI',\n",
       " 'JAMMU',\n",
       " 'KASHMIR',\n",
       " 'MADURAI',\n",
       " 'PATHANKOT',\n",
       " 'RANCHI',\n",
       " 'SCILCHAR',\n",
       " 'ARANGABAD',\n",
       " 'KANDLA',\n",
       " 'VEER SARVARKAR',\n",
       " 'JAIPUR',\n",
       " 'JODHPUR',\n",
       " 'JAMNAGAR',\n",
       " 'JABALPUR',\n",
       " 'JORHAT',\n",
       " 'JAISALMER',\n",
       " 'KANPUR',\n",
       " 'KULLU MANALI',\n",
       " 'LUCKNOW',\n",
       " 'SAHNEWAL',\n",
       " 'CHENNAI',\n",
       " 'MYSORE',\n",
       " 'DR.BABASAHEB AMBEDKAR',\n",
       " 'NANDED',\n",
       " 'PATNA',\n",
       " 'PORBANDAR',\n",
       " 'PANTHAGAR',\n",
       " 'PUNE',\n",
       " 'PONDICHERRY',\n",
       " 'RAJKOT',\n",
       " 'RAJAMUNDRY',\n",
       " 'RAIPUR',\n",
       " 'SHIRDI',\n",
       " 'SHILLONG',\n",
       " 'SHIMLA',\n",
       " 'SURAT',\n",
       " 'SHEIKH UL ALAM',\n",
       " 'TUTICORIN',\n",
       " 'TEZPUR',\n",
       " 'TIRUPATI',\n",
       " 'TRIVANDRUM',\n",
       " 'TIRUCHIRAPALLI',\n",
       " 'UDAIPUR',\n",
       " 'JINDAL VIJAYANAGAR',\n",
       " 'VIJAYAWADA',\n",
       " 'VARANASI',\n",
       " 'VISAKHAPATNAM']"
      ]
     },
     "execution_count": 140,
     "metadata": {},
     "output_type": "execute_result"
    }
   ],
   "source": [
    "fsource"
   ]
  },
  {
   "cell_type": "code",
   "execution_count": 141,
   "metadata": {},
   "outputs": [],
   "source": [
    "def get_from(fr):\n",
    "    fr_src = []\n",
    "    print(fr)\n",
    "    for i in fr:\n",
    "        print(i)\n",
    "        for j in i:\n",
    "            print(j)\n",
    "            if j in fsource or j in tsource:\n",
    "                print(j)\n",
    "                fr_src = j\n",
    "    return fr_src"
   ]
  },
  {
   "cell_type": "code",
   "execution_count": 142,
   "metadata": {},
   "outputs": [
    {
     "name": "stdout",
     "output_type": "stream",
     "text": [
      "[['FROM', 'TIRUPATI']]\n",
      "['FROM', 'TIRUPATI']\n",
      "FROM\n",
      "TIRUPATI\n",
      "TIRUPATI\n"
     ]
    }
   ],
   "source": [
    "fr_src = get_from(fr)"
   ]
  },
  {
   "cell_type": "code",
   "execution_count": 143,
   "metadata": {},
   "outputs": [
    {
     "data": {
      "text/plain": [
       "'TIRUPATI'"
      ]
     },
     "execution_count": 143,
     "metadata": {},
     "output_type": "execute_result"
    }
   ],
   "source": [
    "fr_src"
   ]
  },
  {
   "cell_type": "code",
   "execution_count": 144,
   "metadata": {},
   "outputs": [],
   "source": [
    "def get_to(tr):\n",
    "    tr_dest = []\n",
    "    print(fr)\n",
    "    for i in tr:\n",
    "        print(i)\n",
    "        for j in i:\n",
    "            print(j)\n",
    "            if j in fdest or j in tdest:\n",
    "                print(j)\n",
    "                tr_dest = j\n",
    "    return tr_dest"
   ]
  },
  {
   "cell_type": "code",
   "execution_count": 145,
   "metadata": {},
   "outputs": [
    {
     "name": "stdout",
     "output_type": "stream",
     "text": [
      "[['FROM', 'TIRUPATI']]\n",
      "['TO', 'DELHI']\n",
      "TO\n",
      "DELHI\n",
      "DELHI\n"
     ]
    }
   ],
   "source": [
    "tr_dest = get_to(to)"
   ]
  },
  {
   "cell_type": "code",
   "execution_count": 146,
   "metadata": {},
   "outputs": [
    {
     "data": {
      "text/plain": [
       "'DELHI'"
      ]
     },
     "execution_count": 146,
     "metadata": {},
     "output_type": "execute_result"
    }
   ],
   "source": [
    "tr_dest"
   ]
  },
  {
   "cell_type": "code",
   "execution_count": null,
   "metadata": {},
   "outputs": [],
   "source": [
    "def get_to(fr,nt,tr):\n",
    "    tr_dest = []\n",
    "    print(fr)\n",
    "    for i in tr:\n",
    "        print(i)\n",
    "        for j in i:\n",
    "            print(j)\n",
    "            if j in fdest or j in tdest:\n",
    "                print(j)\n",
    "                tr_dest = j\n",
    "    return tr_dest"
   ]
  }
 ],
 "metadata": {
  "kernelspec": {
   "display_name": "Python 3",
   "language": "python",
   "name": "python3"
  },
  "language_info": {
   "codemirror_mode": {
    "name": "ipython",
    "version": 3
   },
   "file_extension": ".py",
   "mimetype": "text/x-python",
   "name": "python",
   "nbconvert_exporter": "python",
   "pygments_lexer": "ipython3",
   "version": "3.7.0"
  }
 },
 "nbformat": 4,
 "nbformat_minor": 2
}
